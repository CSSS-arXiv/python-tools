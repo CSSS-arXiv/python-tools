{
 "metadata": {
  "name": "",
  "signature": "sha256:824314805596761ecd0956beba222d2920191ad58e101040b483a640cfd8caae"
 },
 "nbformat": 3,
 "nbformat_minor": 0,
 "worksheets": [
  {
   "cells": [
    {
     "cell_type": "code",
     "collapsed": false,
     "input": [
      "from matplotlib import rcParams\n",
      "rcParams['font.family'] = 'sans-serif'\n",
      "rcParams['font.sans-serif'] = ['Helvetica']\n",
      "\n",
      "import matplotlib.pyplot as plt\n",
      "import sqlite3 as sql\n",
      "import networkx as nx\n",
      "import numpy as np\n",
      "import scipy as sp\n",
      "import csv\n",
      "import re\n",
      "from StringIO import StringIO\n",
      "from sklearn.neighbors import KernelDensity\n",
      "\n",
      "from numpy import zeros"
     ],
     "language": "python",
     "metadata": {},
     "outputs": [],
     "prompt_number": 35
    },
    {
     "cell_type": "heading",
     "level": 2,
     "metadata": {},
     "source": [
      "Add author expertise to the database (Are you sure you want to re-run this?)"
     ]
    },
    {
     "cell_type": "code",
     "collapsed": false,
     "input": [
      "db_file = '../data/doc_topics_1.db/doc_topics.db'\n",
      "con = sql.connect(db_file)\n",
      "doc_cur = con.cursor()\n",
      "\n",
      "papers  = doc_cur.execute(\"SELECT * FROM doc\")\n",
      "papers  = doc_cur.fetchall()\n",
      "authors = doc_cur.execute(\"SELECT * FROM author\")\n",
      "authors = doc_cur.fetchall()\n",
      "\n",
      "paperdict = {}\n",
      "for p in papers:                        #For each paper\n",
      "    if not p[0] in paperdict:           #If we haven't seen it before\n",
      "        paperdict[p[0]] = np.zeros(50)  #Initialize a vector of zeros, one for each topic\n",
      "    paperdict[p[0]][p[1]] = p[2]        #Set the topic id to the appropriate value\n",
      "    \n",
      "del papers\n",
      "\n",
      "author_stat = dict()\n",
      "for a in authors:\n",
      "    if a[0] not in paperdict:           #Unrecognised paper\n",
      "        continue\n",
      "    if a[1] not in author_stat:         #A new author\n",
      "        author_stat[a[1]]=np.zeros(50)\n",
      "    author_stat[a[1]]+=paperdict[a[0]]/a[2] #Add topic proportion, but weight by number of authors\n",
      "\n",
      "for a,topic_v in author_stat.items():    \n",
      "    topic_v/=np.sum(topic_v)\n",
      "    \n",
      "del authors\n",
      "\n",
      "expertise_items=[]\n",
      "for author,topicv in author_stat.items():\n",
      "    for topicid,topic_pro in enumerate(topicv):\n",
      "        expertise_items.append( (author,topicid,topic_pro) )\n",
      "        \n",
      "doc_cur.execute(\"DROP TABLE IF EXISTS expertise\")\n",
      "doc_cur.execute(\"CREATE TABLE expertise(authorid TEXT, topicid INT, topic_pro SINGLE);\")\n",
      "doc_cur.executemany(\"INSERT INTO expertise (authorid,topicid,topic_pro) VALUES (?,?,?)\",expertise_items)\n",
      "con.commit()"
     ],
     "language": "python",
     "metadata": {},
     "outputs": [],
     "prompt_number": 7
    },
    {
     "cell_type": "heading",
     "level": 2,
     "metadata": {},
     "source": [
      "Let's just use it, how 'bout? "
     ]
    },
    {
     "cell_type": "code",
     "collapsed": false,
     "input": [
      "db_file = '../data/doc_topics_1.db/doc_topics.db'\n",
      "con = sql.connect(db_file)\n",
      "cur = con.cursor()\n",
      "\n",
      "cur.execute(\"SELECT * FROM expertise;\")\n",
      "expertise_vals = cur.fetchall()"
     ],
     "language": "python",
     "metadata": {},
     "outputs": [],
     "prompt_number": 4
    },
    {
     "cell_type": "code",
     "collapsed": false,
     "input": [
      "expertise_vals[0]"
     ],
     "language": "python",
     "metadata": {},
     "outputs": [
      {
       "metadata": {},
       "output_type": "pyout",
       "prompt_number": 7,
       "text": [
        "(u'Bhatia, M.', 0, 0.00032469584025422)"
       ]
      }
     ],
     "prompt_number": 7
    },
    {
     "cell_type": "code",
     "collapsed": false,
     "input": [
      "expertise = {}\n",
      "for e in expertise_vals:                #For each level o' expertise\n",
      "    if not e[0] in expertise:           #If we haven't seen it before\n",
      "        expertise[e[0]] = np.zeros(50)  #Initialize a vector of zeros, one for each topic\n",
      "    expertise[e[0]][e[1]] = e[2]        #Set the topic id to the appropriate value"
     ],
     "language": "python",
     "metadata": {},
     "outputs": [],
     "prompt_number": 10
    },
    {
     "cell_type": "heading",
     "level": 3,
     "metadata": {},
     "source": [
      "Entropy"
     ]
    },
    {
     "cell_type": "code",
     "collapsed": false,
     "input": [
      "def entropy(p_dist):\n",
      "    return -np.sum([p*np.log2(p) for p in p_dist])\n",
      "        \n",
      "entropies = array([entropy(v) for k,v in expertise.items()])"
     ],
     "language": "python",
     "metadata": {},
     "outputs": [],
     "prompt_number": 32
    },
    {
     "cell_type": "code",
     "collapsed": false,
     "input": [
      "fig, ax1 = plt.subplots(figsize=(6,4))\n",
      "xmin, xmax = 0, 6\n",
      "x_plot = np.linspace(xmin, xmax, 1000)[:, newaxis]\n",
      "e = array(entropies)[:, newaxis]\n",
      "bw = 4*1.06*std(e)*(len(e)**(-1.0/5))\n",
      "mdl = KernelDensity(kernel='gaussian', bandwidth=bw)\n",
      "mdl.fit(e)\n",
      "log_dens = mdl.score_samples(x_plot)\n",
      "ax1.fill_between(x_plot[:, 0], exp(log_dens), alpha=0.1, lw=1, color='0.6')\n",
      "ax1.plot(x_plot[:, 0], exp(log_dens), lw=4, color='0.1')\n",
      "ax1.set_xlim(xmin, xmax)\n",
      "ax1.set_xlabel('Entropy (bits)')\n",
      "ax1.set_ylabel('Density')\n",
      "ax1.set_yticks([])\n",
      "ax1.spines['right'].set_visible(False)\n",
      "ax1.spines['top'].set_visible(False)\n",
      "ax1.yaxis.set_ticks_position('left')\n",
      "ax1.xaxis.set_ticks_position('bottom')\n",
      "plt.show()"
     ],
     "language": "python",
     "metadata": {},
     "outputs": [
      {
       "metadata": {},
       "output_type": "display_data",
       "png": "[encoded data removed]",
       "text": [
        "<matplotlib.figure.Figure at 0x155a16c90>"
       ]
      }
     ],
     "prompt_number": 48
    },
    {
     "cell_type": "code",
     "collapsed": false,
     "input": [
      "ex_mat = array(expertise.values())\n",
      "ex_mat = -np.sort(-ex_mat, axis=1)  # Sort expertise vectors to highlight the most-used topics\n",
      "avg_ex = ex_mat.mean(axis=0)        # What's the average expertise vector look like?"
     ],
     "language": "python",
     "metadata": {},
     "outputs": [],
     "prompt_number": 62
    },
    {
     "cell_type": "code",
     "collapsed": false,
     "input": [
      "fig, ax1 = plt.subplots(figsize=(6,4))\n",
      "\n",
      "ax1.plot(avg_ex[:11], 'ok', linewidth=2)\n",
      "ax1.set_xticks(xrange(11))\n",
      "ax1.set_xlabel('Sorted topics')\n",
      "ax1.set_ylabel('Probability of topic')\n",
      "ax1.spines['right'].set_visible(False)\n",
      "ax1.spines['top'].set_visible(False)\n",
      "ax1.yaxis.set_ticks_position('left')\n",
      "ax1.xaxis.set_ticks_position('bottom')\n",
      "plt.show()"
     ],
     "language": "python",
     "metadata": {},
     "outputs": [
      {
       "metadata": {},
       "output_type": "display_data",
       "png": "[encoded data removed]",
       "text": [
        "<matplotlib.figure.Figure at 0x1559dc110>"
       ]
      }
     ],
     "prompt_number": 68
    },
    {
     "cell_type": "markdown",
     "metadata": {},
     "source": [
      "So most authors write most of their papers on just a few topics"
     ]
    },
    {
     "cell_type": "code",
     "collapsed": false,
     "input": [],
     "language": "python",
     "metadata": {},
     "outputs": []
    }
   ],
   "metadata": {}
  }
 ]
}